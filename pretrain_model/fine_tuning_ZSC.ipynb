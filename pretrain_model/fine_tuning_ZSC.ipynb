{
 "cells": [
  {
   "cell_type": "code",
   "execution_count": 35,
   "metadata": {},
   "outputs": [],
   "source": [
    "from transformers import *\n",
    "import pandas as pd"
   ]
  },
  {
   "cell_type": "code",
   "execution_count": 36,
   "metadata": {},
   "outputs": [],
   "source": [
    "df=pd.read_csv(\"C:\\\\Users\\\\Prerit\\\\Desktop\\\\projects\\\\Devjams-2022\\\\data_fetch\\\\repos_all.csv\")\n",
    "# print(df)"
   ]
  },
  {
   "cell_type": "code",
   "execution_count": null,
   "metadata": {},
   "outputs": [],
   "source": [
    "classifier=pipeline('zero-shot-classification',model=\"facebook/bart-large-mnli\")\n",
    "candidate_labels=['Automation','Artificial Intelligence',\"Frontend\",\"backend\",\"System Design\",\"Fullstack\",\"Network\",\"Cloud Engineer\",\"App Development\",\"Web3\",\"Blockchain\"]\n",
    "def get_preds(text):\n",
    "    res=classifier(text,candidate_labels)\n",
    "    "
   ]
  },
  {
   "cell_type": "code",
   "execution_count": 45,
   "metadata": {},
   "outputs": [
    {
     "name": "stdout",
     "output_type": "stream",
     "text": [
      "{'sequence': 'An Emulator and Assembler for the Mano Machine written in JavaScript', 'labels': ['Automation', 'Frontend', 'Artificial Intelligence', 'backend', 'Web3', 'Fullstack', 'Network', 'System Design', 'Cloud Engineer', 'App Development', 'Blockchain'], 'scores': [0.46541234850883484, 0.11711249500513077, 0.07598210871219635, 0.07053736597299576, 0.06996731460094452, 0.05841747298836708, 0.049888644367456436, 0.031303003430366516, 0.0293109193444252, 0.020236583426594734, 0.011831775307655334]}\n"
     ]
    }
   ],
   "source": [
    "print(get_preds(\"An Emulator and Assembler for the Mano Machine written in JavaScript\"))"
   ]
  },
  {
   "cell_type": "code",
   "execution_count": 41,
   "metadata": {},
   "outputs": [
    {
     "name": "stdout",
     "output_type": "stream",
     "text": [
      "CalHousePredictor \n",
      "ClassPredictionwithgivenFeaturesML \n",
      "Codewars \n",
      "Javalearning syntax and statement definitions with examples in Java\n",
      "learningCwithclasses Reference C scripts\n",
      "MayhulJindal My GitHub Profile\n",
      "NLPpub \n",
      "ProfitMLmodel \n",
      "pythonscripts \n",
      "WhatsappBot A digital marketing tool that can be used to send product updates message people individually without the creation of extra groups using Whatsapp\n",
      "amongusgif A python script to create Among Us meme GIFs\n",
      "ayka \n",
      "bhyilinks An esoteric link shortener\n",
      "cbseresults A script to get CBSE XII results of multiple roll numbers at once\n",
      "CertificateGenerator Program to generate and email certificates\n",
      "cwintra CW Intra website Techathlon\n",
      "entente Robotronics hackathon entry\n",
      "GDSCNSUT \n",
      "grid \n",
      "jeepaperchecker calculate jee main marks\n",
      "mandelbrotexplorer Explore the Mandelbrot fractal\n",
      "manomachineemulator An Emulator and Assembler for the Mano Machine written in JavaScript\n",
      "mazegen Python tool to generate and solve mazes\n",
      "ojingeo Hack submission for cepheus\n",
      "pagalga \n",
      "pathi hbd\n",
      "portfolio \n",
      "sexkardunga \n",
      "synscanner A simple TCP SYN scanner for linux\n",
      "test \n",
      "ujjujjujgithubio im\n",
      "vestigo xino hackathon entry\n",
      "certifcgernrr ez automation and mailing of certis in approx lines of code for participation certis\n",
      "cfdp Centre For Developmental Pediatrics\n",
      "CircuitVerse CircuitVerse Primary Code Base\n",
      "dcrypt nCrypts Cryptic Hunt platform\n",
      "dCrypt dCrypt flask version\n",
      "dcryptk \n",
      "diivi \n",
      "ecolosseum \n",
      "faltucoin A basic PoW cryptocurrency implementation\n",
      "freeCodeCamp freeCodeCamporgs opensource codebase and curriculum Learn to code for free\n",
      "hackslashnitpgithubio Source code of the official website of hackslash club\n",
      "hammertestbed A Phoenix app for testing and demonstrating Hammer\n",
      "hangmancli CLI for hangman\n",
      "kabootrr A movie ticket booking web app demo with firebase\n",
      "KiloBite A reactnative restaurant and menu browsing app\n",
      "kirayay \n",
      "makersandmerchants \n",
      "meritension Chrome extension for faster cheating Skipping the login modal did not load MathML on chrome the way its supposed to which is why this extension uses some Fmath modules\n",
      "mgmtdashboard \n",
      "MiloApp A miscellaneous Flutter app built with various geolocator plugins and Google Maps SDK\n",
      "minithotsbackend \n",
      "ncryptregister nahi pasand handlebars\n",
      "ncryptk The website for nCrypt DPS Sushant Loks tech club Languages and frameworks HTML CSS JSJQueryBootstrap and some basic js libraries\n",
      "nestbankmgmtcurd curd api with nestjs prisma basic passportjwt auth\n",
      "normalizecss A modern alternative to CSS resets\n",
      "pretweet A RoR tweet scheduler with all essential backend features authjobscrud twitter oauth\n",
      "promoserver Backend for an affiliate marketing platform\n",
      "recordivi A desktop based screen recording application for WindowsOSX and Linux made with node js and electron js\n",
      "saylus ibm ke liye project uske liye website\n",
      "shortenr basic flaskmysql url shortener\n",
      "skech \n",
      "skechserver \n",
      "smun Statesmanship Conference\n",
      "sveltestarter Boilerplate with basic functionality to get started with sveltekit projects\n",
      "threejsdemos \n",
      "torparty \n",
      "triangleapp Financial Simulation app and Token built on Polygon\n",
      "uiGradients Beautiful colour gradients for design and code\n",
      "vsconline Online interpreter for a low level machine language\n"
     ]
    }
   ],
   "source": [
    "for i in range(df.shape[0]):\n",
    "    a=df['repos_descrip'][i]\n",
    "    print(df['repos_descrip'][i])"
   ]
  }
 ],
 "metadata": {
  "kernelspec": {
   "display_name": "Python 3.9.7 64-bit",
   "language": "python",
   "name": "python3"
  },
  "language_info": {
   "codemirror_mode": {
    "name": "ipython",
    "version": 3
   },
   "file_extension": ".py",
   "mimetype": "text/x-python",
   "name": "python",
   "nbconvert_exporter": "python",
   "pygments_lexer": "ipython3",
   "version": "3.9.7"
  },
  "orig_nbformat": 4,
  "vscode": {
   "interpreter": {
    "hash": "079045453566b17fd163f13f3fe87edfe06e6a982f318da17fa430f8a27f6524"
   }
  }
 },
 "nbformat": 4,
 "nbformat_minor": 2
}
