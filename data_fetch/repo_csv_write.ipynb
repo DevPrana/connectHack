{
 "cells": [
  {
   "cell_type": "code",
   "execution_count": 48,
   "metadata": {},
   "outputs": [
    {
     "name": "stdout",
     "output_type": "stream",
     "text": [
      "repositories fetched: 10\n",
      "repositories fetched: 21\n",
      "repositories fetched: 30\n",
      "repositories fetched: 10\n",
      "Total repositroy fetched for all users: 71\n",
      "CalHousePredictor\n"
     ]
    }
   ],
   "source": [
    "#To authenticate the user to make more requests at a time\n",
    "import json\n",
    "import numpy as np\n",
    "import pandas as pd\n",
    "from getpass import getpass, getuser\n",
    "\n",
    "import re\n",
    "import string\n",
    "import csv\n",
    "\n",
    "import requests\n",
    "from requests.auth import HTTPBasicAuth\n",
    "\n",
    "# credentials = json.loads(open('Sec\\credentials.json').read())\n",
    "user=input(\"Enter your github Username\")\n",
    "passw=getpass()\n",
    "authentication = HTTPBasicAuth(user, passw)\n",
    "#We authorize our requests using this authentication variable (equivalen to auth=(username,password) in a request)\n",
    "\n",
    "\n",
    "tot_repos_fetched=0\n",
    "df=pd.read_csv(\"users.csv\")\n",
    "\n",
    "repos_data=[]# This is where we will store all our repository data \n",
    "\n",
    "for i in df['Users']:\n",
    "    data=requests.get('https://api.github.com/users/' + i, auth = authentication)\n",
    "    data = data.json()\n",
    "    pretty_data=json.dumps(data,indent=4)\n",
    "    # print(pretty_data)\n",
    "    user_name=data['name']\n",
    "    user_location=data['location']\n",
    "    user_email=data['email']\n",
    "    user_bio=data['bio']\n",
    "    user_public_repos_num=data['public_repos']\n",
    "    user_repos_url=data['repos_url'] #provides the github API to fetch the repository details for the user\n",
    "    \n",
    "    \n",
    "\n",
    "    page_no=1\n",
    "    #Since the given api only fetches about 30 repositories we use a seperatre parameter known as page numbers to fetch the further repos\n",
    "    while (True):\n",
    "        response = requests.get(user_repos_url, auth = authentication)\n",
    "        response = response.json()\n",
    "        repos_data = repos_data + response\n",
    "        repos_fetched = len(response)\n",
    "        tot_repos_fetched+=repos_fetched\n",
    "        print(\"repositories fetched: {}\".format(repos_fetched))\n",
    "        if (repos_fetched == 30):\n",
    "            page_no = page_no + 1\n",
    "            user_repos_url = data['repos_url'] + '?page=' + str(page_no)\n",
    "        else:\n",
    "            break\n",
    "print(\"Total repositroy fetched for all users: \"+str(tot_repos_fetched))\n",
    "\n",
    "\n",
    "for i in range(tot_repos_fetched):\n",
    "    repos_data[i]['name']=\" \".join(''.join(i for i in list(repos_data[i]['name']) if i in string.ascii_lowercase or i in string.ascii_uppercase or i==' ').split())\n",
    "    try:\n",
    "        repos_data[i]['description']=\" \".join(''.join(i for i in list(repos_data[i]['description']) if i in string.ascii_lowercase or i in string.ascii_uppercase or i==' ').split())\n",
    "    except:\n",
    "        pass\n",
    "\n",
    "filename=\"repos_all.csv\"\n",
    "fields=[\"repo_name\",\"repo_description\"]\n",
    "# if str(repo_description)=='none':\n",
    "#     repo_description=\"\"\n",
    "rows=[[repos_data[i][\"name\"],repos_data[i][\"description\"]] for i in range(tot_repos_fetched)]\n",
    "\n",
    "with open(filename,'w')as csvfile:\n",
    "    csvwriter = csv.writer(csvfile)\n",
    "   \n",
    "    # writing the fields\n",
    "    csvwriter.writerow(fields)\n",
    "     \n",
    "    # writing the data rows\n",
    "    csvwriter.writerows(rows)"
   ]
  }
 ],
 "metadata": {
  "kernelspec": {
   "display_name": "Python 3.9.7 64-bit",
   "language": "python",
   "name": "python3"
  },
  "language_info": {
   "codemirror_mode": {
    "name": "ipython",
    "version": 3
   },
   "file_extension": ".py",
   "mimetype": "text/x-python",
   "name": "python",
   "nbconvert_exporter": "python",
   "pygments_lexer": "ipython3",
   "version": "3.9.7"
  },
  "orig_nbformat": 4,
  "vscode": {
   "interpreter": {
    "hash": "079045453566b17fd163f13f3fe87edfe06e6a982f318da17fa430f8a27f6524"
   }
  }
 },
 "nbformat": 4,
 "nbformat_minor": 2
}
