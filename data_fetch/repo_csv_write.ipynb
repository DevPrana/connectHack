{
 "cells": [
  {
   "cell_type": "code",
   "execution_count": 19,
   "metadata": {},
   "outputs": [
    {
     "name": "stdout",
     "output_type": "stream",
     "text": [
      "Total repositories fetched: 10\n",
      "<class 'requests.models.Response'>\n"
     ]
    }
   ],
   "source": [
    "\n",
    "import json\n",
    "import numpy as np\n",
    "import pandas as pd\n",
    "from getpass import getpass, getuser\n",
    "\n",
    "import requests\n",
    "from requests.auth import HTTPBasicAuth\n",
    "\n",
    "# credentials = json.loads(open('Sec\\credentials.json').read())\n",
    "user=input(\"Enter your github Username\")\n",
    "passw=getpass()\n",
    "authentication = HTTPBasicAuth(user, passw)\n",
    "#We authorize our requests using this authentication variable (equivalen to auth=(username,password) in a request)\n",
    "\n",
    "data = requests.get('https://api.github.com/users/' + user,\n",
    "                    auth = authentication)\n",
    "data = data.json()\n",
    "pretty_data=json.dumps(data,indent=4)\n",
    "# print(pretty_data)\n",
    "user_name=data['name']\n",
    "user_location=data['location']\n",
    "user_email=data['email']\n",
    "user_bio=data['bio']\n",
    "user_public_repos_num=data['public_repos']\n",
    "user_repos_url=data['repos_url'] #provides the github API to fetch the repository details for the user\n",
    "\n",
    "repos_data=[]# This is where we will store all our \n",
    "tot_repos_fetched=0\n",
    "#Since the given api only fetches about 30 repositories we use a seperatre parameter known as page numbers to fetch the further repos\n",
    "while (True):\n",
    "    response = requests.get(user_repos_url, auth = authentication)\n",
    "    response = response.json()\n",
    "    repos_data = repos_data + response\n",
    "    repos_fetched = len(response)\n",
    "    tot_repos_fetched+=repos_fetched\n",
    "    print(\"Total repositories fetched: {}\".format(repos_fetched))\n",
    "    if (repos_fetched == 30):\n",
    "        page_no = page_no + 1\n",
    "        url = data['repos_url'].encode(\"UTF-8\") + '?page=' + str(page_no)\n",
    "    else:\n",
    "        break\n",
    "\n",
    "current_repo=repos_data[0]\n",
    "pretty_repo=json.dumps(current_repo,indent=4)\n",
    "repo_name=current_repo['name']\n",
    "repo_description=current_repo['description']\n",
    "\n",
    "#? We create another request to get the languages used ( we get a json file with number of lines present)\n",
    "repo_language_url=current_repo['languages_url']\n",
    "\n",
    "language=requests.get(repo_language_url)\n",
    "print(type(language))\n",
    "language=language.json()\n",
    "#? To get an idea of what the repo looks like\n",
    "# print(pretty_repo)\n",
    "\n"
   ]
  },
  {
   "cell_type": "code",
   "execution_count": 22,
   "metadata": {},
   "outputs": [
    {
     "name": "stdout",
     "output_type": "stream",
     "text": [
      "CalHousePredictor\n",
      "[['CalHousePredictor', None], ['Class_Prediction_with-given_Features_ML', None], ['Codewars', None], ['Java-learning', 'syntax and statement definitions with examples in Java'], ['learning-C-with-classes', 'Reference C++ scripts.'], ['Mayhul-Jindal', 'My GitHub Profile'], ['NLP_pub', None], ['Profit_MLmodel', None], ['python-scripts', None], ['Whatsapp-Bot', 'A digital marketing tool that can be used to send product updates, message people individually without the creation of extra groups using Whatsapp']]\n"
     ]
    }
   ],
   "source": [
    "from asyncio.windows_events import NULL\n",
    "import csv\n",
    "\n",
    "filename=\"repos_all.csv\"\n",
    "fields=[\"repo_name\",\"repo_description\"]\n",
    "# if str(repo_description)=='none':\n",
    "#     repo_description=\"\"\n",
    "print(repo_name)\n",
    "rows=[[repos_data[i][\"name\"],repos_data[i][\"description\"]] for i in range(tot_repos_fetched)]\n",
    "print(rows)\n",
    "\n",
    "with open(filename,'w')as csvfile:\n",
    "    csvwriter = csv.writer(csvfile)\n",
    "   \n",
    "    # writing the fields\n",
    "    csvwriter.writerow(fields)\n",
    "     \n",
    "    # writing the data rows\n",
    "    csvwriter.writerows(rows)"
   ]
  }
 ],
 "metadata": {
  "kernelspec": {
   "display_name": "Python 3.9.7 64-bit",
   "language": "python",
   "name": "python3"
  },
  "language_info": {
   "codemirror_mode": {
    "name": "ipython",
    "version": 3
   },
   "file_extension": ".py",
   "mimetype": "text/x-python",
   "name": "python",
   "nbconvert_exporter": "python",
   "pygments_lexer": "ipython3",
   "version": "3.9.7"
  },
  "orig_nbformat": 4,
  "vscode": {
   "interpreter": {
    "hash": "079045453566b17fd163f13f3fe87edfe06e6a982f318da17fa430f8a27f6524"
   }
  }
 },
 "nbformat": 4,
 "nbformat_minor": 2
}
