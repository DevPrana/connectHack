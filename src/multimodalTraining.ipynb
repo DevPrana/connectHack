{
 "cells": [
  {
   "cell_type": "code",
   "execution_count": null,
   "metadata": {},
   "outputs": [],
   "source": [
    "import pandas as pd\n",
    "from multimodal_transformers.data import load_data\n",
    "from transformers import AutoTokenizer"
   ]
  }
 ],
 "metadata": {
  "kernelspec": {
   "display_name": "Python 3.9.7 64-bit",
   "language": "python",
   "name": "python3"
  },
  "language_info": {
   "name": "python",
   "version": "3.9.7"
  },
  "orig_nbformat": 4,
  "vscode": {
   "interpreter": {
    "hash": "079045453566b17fd163f13f3fe87edfe06e6a982f318da17fa430f8a27f6524"
   }
  }
 },
 "nbformat": 4,
 "nbformat_minor": 2
}
